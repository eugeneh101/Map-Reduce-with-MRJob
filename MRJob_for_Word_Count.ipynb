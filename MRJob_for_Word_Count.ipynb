{
 "cells": [
  {
   "cell_type": "markdown",
   "metadata": {},
   "source": [
    "# Word Count Tutorial"
   ]
  },
  {
   "cell_type": "code",
   "execution_count": 1,
   "metadata": {
    "collapsed": false
   },
   "outputs": [
    {
     "name": "stdout",
     "output_type": "stream",
     "text": [
      "Overwriting mr_wc.py\n"
     ]
    }
   ],
   "source": [
    "%%writefile mr_wc.py\n",
    "\n",
    "from mrjob.job import MRJob\n",
    "\n",
    "\n",
    "class MRWordFrequencyCount(MRJob):\n",
    "\n",
    "    def mapper(self, _, line):\n",
    "        yield \"chars\", len(line)\n",
    "        yield \"words\", len(line.split())\n",
    "        yield \"lines\", 1\n",
    "\n",
    "    def reducer(self, key, values):\n",
    "        yield key, sum(values)\n",
    "\n",
    "\n",
    "if __name__ == '__main__':\n",
    "    MRWordFrequencyCount.run()"
   ]
  },
  {
   "cell_type": "code",
   "execution_count": 2,
   "metadata": {
    "collapsed": false
   },
   "outputs": [
    {
     "name": "stdout",
     "output_type": "stream",
     "text": [
      "\"chars\"\t5333743\n",
      "\"lines\"\t124456\n",
      "\"words\"\t901325\n",
      "Wall time: 8.03 s\n"
     ]
    },
    {
     "name": "stderr",
     "output_type": "stream",
     "text": [
      "No configs found; falling back on auto-configuration\n",
      "Creating temp directory c:\\users\\eugene\\appdata\\local\\temp\\mr_wc.Eugene.20170718.044612.394000\n",
      "Running step 1 of 1...\n",
      "reading from STDIN\n",
      "Streaming final output from c:\\users\\eugene\\appdata\\local\\temp\\mr_wc.Eugene.20170718.044612.394000\\output...\n",
      "Removing temp directory c:\\users\\eugene\\appdata\\local\\temp\\mr_wc.Eugene.20170718.044612.394000...\n"
     ]
    }
   ],
   "source": [
    "%%time\n",
    "!python mr_wc.py < shakespeare.txt"
   ]
  },
  {
   "cell_type": "code",
   "execution_count": null,
   "metadata": {
    "collapsed": true
   },
   "outputs": [],
   "source": []
  },
  {
   "cell_type": "markdown",
   "metadata": {},
   "source": [
    "# Actual Word Count Tutorial"
   ]
  },
  {
   "cell_type": "code",
   "execution_count": 3,
   "metadata": {
    "collapsed": false
   },
   "outputs": [
    {
     "name": "stdout",
     "output_type": "stream",
     "text": [
      "Overwriting mr_word_counter.py\n"
     ]
    }
   ],
   "source": [
    "%%writefile mr_word_counter.py\n",
    "from mrjob.job import MRJob\n",
    "\n",
    "\n",
    "class MRWordFrequencyCount(MRJob):\n",
    "\n",
    "    def mapper(self, _, line):\n",
    "        for word in line.lower().split():\n",
    "            yield (word, 1)\n",
    "\n",
    "    def combiner(self, word, aggregated_counts):\n",
    "        yield word, sum(aggregated_counts)\n",
    "\n",
    "    def reducer(self, key, count):\n",
    "        yield key, sum(count)\n",
    "\n",
    "\n",
    "if __name__ == '__main__':\n",
    "    MRWordFrequencyCount.run()"
   ]
  },
  {
   "cell_type": "code",
   "execution_count": 4,
   "metadata": {
    "collapsed": false,
    "scrolled": false
   },
   "outputs": [
    {
     "name": "stderr",
     "output_type": "stream",
     "text": [
      "No configs found; falling back on auto-configuration\n",
      "Creating temp directory c:\\users\\eugene\\appdata\\local\\temp\\mr_word_counter.Eugene.20170718.044620.432000\n",
      "Running step 1 of 1...\n",
      "reading from STDIN\n",
      "Streaming final output from c:\\users\\eugene\\appdata\\local\\temp\\mr_word_counter.Eugene.20170718.044620.432000\\output...\n",
      "Removing temp directory c:\\users\\eugene\\appdata\\local\\temp\\mr_word_counter.Eugene.20170718.044620.432000...\n"
     ]
    },
    {
     "name": "stdout",
     "output_type": "stream",
     "text": [
      "\"the\"\t27549\n",
      "\"and\"\t26037\n",
      "\"i\"\t19540\n",
      "\"to\"\t18700\n",
      "\"of\"\t18010\n",
      "\"a\"\t14383\n",
      "\"my\"\t12455\n",
      "\"in\"\t10671\n",
      "\"you\"\t10630\n",
      "\"that\"\t10487\n",
      "\"is\"\t9145\n",
      "\"for\"\t7982\n",
      "\"with\"\t7931\n",
      "\"not\"\t7643\n",
      "\"your\"\t6871\n",
      "\"his\"\t6749\n",
      "\"be\"\t6700\n",
      "\"but\"\t5886\n",
      "\"he\"\t5884\n",
      "\"as\"\t5882\n",
      "Wall time: 14.7 s\n"
     ]
    },
    {
     "name": "stderr",
     "output_type": "stream",
     "text": [
      "sort: write failed: 'standard output'\n",
      "sort: write error\n"
     ]
    }
   ],
   "source": [
    "%%time\n",
    "!python mr_word_counter.py < shakespeare.txt > temp_shakespeare_counter_results.txt\n",
    "\n",
    "# sort by second key in reverse order\n",
    "!cat temp_shakespeare_counter_results.txt | sort --key 2nr -n | head -20\n"
   ]
  },
  {
   "cell_type": "code",
   "execution_count": null,
   "metadata": {
    "collapsed": true
   },
   "outputs": [],
   "source": []
  },
  {
   "cell_type": "code",
   "execution_count": 5,
   "metadata": {
    "collapsed": false,
    "scrolled": true
   },
   "outputs": [
    {
     "name": "stdout",
     "output_type": "stream",
     "text": [
      "[('the', 27549), ('and', 26037), ('i', 19540), ('to', 18700), ('of', 18010), ('a', 14383), ('my', 12455), ('in', 10671), ('you', 10630), ('that', 10487)]\n"
     ]
    }
   ],
   "source": [
    "from collections import Counter\n",
    "\n",
    "counter_manual = Counter()\n",
    "with open('shakespeare.txt') as f:\n",
    "    for line in f:\n",
    "        counter_manual.update(line.lower().split())\n",
    "\n",
    "print(counter_manual.most_common()[:10])"
   ]
  },
  {
   "cell_type": "code",
   "execution_count": 6,
   "metadata": {
    "collapsed": false
   },
   "outputs": [
    {
     "name": "stdout",
     "output_type": "stream",
     "text": [
      "[('the', 27549), ('and', 26037), ('i', 19540), ('to', 18700), ('of', 18010), ('a', 14383), ('my', 12455), ('in', 10671), ('you', 10630), ('that', 10487)]\n"
     ]
    }
   ],
   "source": [
    "counter_mrjob = Counter()\n",
    "\n",
    "with open('temp_shakespeare_counter_results.txt') as f:\n",
    "    for line in f:\n",
    "        word, count = line.strip().split('\\t')\n",
    "        counter_mrjob[word.strip('\"')] = int(count)\n",
    "\n",
    "print(counter_mrjob.most_common()[:10])"
   ]
  },
  {
   "cell_type": "code",
   "execution_count": 7,
   "metadata": {
    "collapsed": false,
    "scrolled": false
   },
   "outputs": [
    {
     "data": {
      "text/plain": [
       "[('\"', 241),\n",
       " ('\"a', 4),\n",
       " ('\"i', 4),\n",
       " ('sail!\"', 3),\n",
       " ('print!\"', 3),\n",
       " ('\"small', 3),\n",
       " ('\"caesar.\"', 2),\n",
       " ('\"thus', 2),\n",
       " ('\"fear', 2),\n",
       " ('\"give', 2)]"
      ]
     },
     "execution_count": 7,
     "metadata": {},
     "output_type": "execute_result"
    }
   ],
   "source": [
    "(counter_manual - counter_mrjob).most_common()[:10]\n",
    "# close enough!"
   ]
  },
  {
   "cell_type": "code",
   "execution_count": null,
   "metadata": {
    "collapsed": true
   },
   "outputs": [],
   "source": []
  },
  {
   "cell_type": "markdown",
   "metadata": {},
   "source": [
    "# EMR Word Counter"
   ]
  },
  {
   "cell_type": "code",
   "execution_count": 1,
   "metadata": {
    "collapsed": false
   },
   "outputs": [
    {
     "name": "stdout",
     "output_type": "stream",
     "text": [
      "Overwriting EMR_word_counter_mapper.py\n"
     ]
    }
   ],
   "source": [
    "%%writefile EMR_word_counter_mapper.py\n",
    "#!/usr/bin/python\n",
    "\n",
    "import sys\n",
    "\n",
    "for line in sys.stdin:\n",
    "    words = line.strip().lower().split()\n",
    "    for word in words:\n",
    "            print(\"{}\\t{}\".format(word, 1))"
   ]
  },
  {
   "cell_type": "code",
   "execution_count": 2,
   "metadata": {
    "collapsed": false
   },
   "outputs": [
    {
     "name": "stdout",
     "output_type": "stream",
     "text": [
      "Overwriting EMR_word_counter_reducer.py\n"
     ]
    }
   ],
   "source": [
    "%%writefile EMR_word_counter_reducer.py\n",
    "#!/usr/bin/python\n",
    "\n",
    "import sys\n",
    "\n",
    "current_word = None\n",
    "current_count = None\n",
    "\n",
    "for line in sys.stdin:\n",
    "    word, count = line.split('\\t')\n",
    "    count = int(count)\n",
    "    if current_word == word:\n",
    "        current_count += 1\n",
    "    else:\n",
    "        if current_word:\n",
    "            print(\"{}\\t{}\".format(current_word, current_count))\n",
    "        current_word = word\n",
    "        current_count = 1\n",
    "if current_word:\n",
    "    print(\"{}\\t{}\".format(current_word, current_count))"
   ]
  },
  {
   "cell_type": "code",
   "execution_count": 3,
   "metadata": {
    "collapsed": false,
    "scrolled": true
   },
   "outputs": [
    {
     "name": "stderr",
     "output_type": "stream",
     "text": [
      "dos2unix: converting file EMR_word_counter_mapper.py to Unix format...\n",
      "dos2unix: converting file EMR_word_counter_mapper.py to Unix format...\n",
      "dos2unix: converting file EMR_word_counter_reducer.py to Unix format...\n",
      "dos2unix: converting file EMR_word_counter_reducer.py to Unix format...\n"
     ]
    }
   ],
   "source": [
    "!dos2unix EMR_word_counter_mapper.py EMR_word_counter_mapper.py\n",
    "!dos2unix EMR_word_counter_reducer.py EMR_word_counter_reducer.py"
   ]
  },
  {
   "cell_type": "code",
   "execution_count": 4,
   "metadata": {
    "collapsed": false
   },
   "outputs": [
    {
     "name": "stdout",
     "output_type": "stream",
     "text": [
      "Wall time: 8.42 s\n"
     ]
    }
   ],
   "source": [
    "%%time\n",
    "!cat shakespeare.txt | python EMR_word_counter_mapper.py | sort | python EMR_word_counter_reducer.py > temp_shakespeare_manual_counter.txt"
   ]
  },
  {
   "cell_type": "code",
   "execution_count": 5,
   "metadata": {
    "collapsed": false,
    "scrolled": true
   },
   "outputs": [
    {
     "name": "stdout",
     "output_type": "stream",
     "text": [
      "[('the', 27549), ('and', 26037), ('i', 19540), ('to', 18700), ('of', 18010), ('a', 14383), ('my', 12455), ('in', 10671), ('you', 10630), ('that', 10487)]\n"
     ]
    }
   ],
   "source": [
    "from collections import Counter\n",
    "\n",
    "counter_EMR_manual = Counter()\n",
    "\n",
    "with open('temp_shakespeare_manual_counter.txt') as f:\n",
    "    for line in f:\n",
    "        word, count = line.strip().split('\\t')\n",
    "        counter_EMR_manual[word.strip('\"')] = int(count)\n",
    "\n",
    "print(counter_EMR_manual.most_common()[:10])"
   ]
  },
  {
   "cell_type": "code",
   "execution_count": null,
   "metadata": {
    "collapsed": true
   },
   "outputs": [],
   "source": []
  },
  {
   "cell_type": "code",
   "execution_count": null,
   "metadata": {
    "collapsed": true
   },
   "outputs": [],
   "source": []
  },
  {
   "cell_type": "markdown",
   "metadata": {},
   "source": [
    "# Download EMR results from S3"
   ]
  },
  {
   "cell_type": "code",
   "execution_count": 1,
   "metadata": {
    "collapsed": true
   },
   "outputs": [],
   "source": [
    "import boto\n",
    "\n",
    "AWS_credentials = {}\n",
    "with open('rootkey.csv') as f:\n",
    "    for line in f:\n",
    "        if 'AWSAccessKeyId' in line:\n",
    "            AWS_credentials['aws_access_key_id'] = line.strip().split('=')[1]\n",
    "        elif 'AWSSecretKey' in line:\n",
    "            AWS_credentials['aws_secret_access_key'] = line.strip().split('=')[1]\n",
    "\n",
    "conn = boto.connect_s3(**AWS_credentials)\n",
    "bucket = conn.get_bucket('map-reduce-practice')"
   ]
  },
  {
   "cell_type": "code",
   "execution_count": 2,
   "metadata": {
    "collapsed": false,
    "scrolled": true
   },
   "outputs": [
    {
     "name": "stdout",
     "output_type": "stream",
     "text": [
      "output_data/word_counter/_SUCCESS\n",
      "output_data/word_counter/part-00000\n",
      "output_data/word_counter/part-00001\n",
      "output_data/word_counter/part-00002\n",
      "output_data/word_counter/part-00003\n",
      "output_data/word_counter/part-00004\n",
      "output_data/word_counter/part-00005\n",
      "output_data/word_counter/part-00006\n"
     ]
    }
   ],
   "source": [
    "import os\n",
    "\n",
    "output_dir = 'output_data/word_counter/'\n",
    "\n",
    "if not os.path.isdir(output_dir):\n",
    "    os.makedirs(output_dir)\n",
    "\n",
    "for key in bucket.list():\n",
    "    if output_dir in key.key:\n",
    "        print key.key\n",
    "        file_name = key.key.split('/')[-1]\n",
    "        key.get_contents_to_filename(output_dir + file_name)"
   ]
  },
  {
   "cell_type": "code",
   "execution_count": null,
   "metadata": {
    "collapsed": true
   },
   "outputs": [],
   "source": []
  },
  {
   "cell_type": "markdown",
   "metadata": {
    "collapsed": true
   },
   "source": [
    "# Check if manual map-reduce, manual EMR, real EMR results match"
   ]
  },
  {
   "cell_type": "code",
   "execution_count": 1,
   "metadata": {
    "collapsed": true
   },
   "outputs": [],
   "source": [
    "from collections import Counter\n",
    "\n",
    "counter_manual = Counter()\n",
    "with open('shakespeare.txt') as f:\n",
    "    for line in f:\n",
    "        counter_manual.update(line.lower().split())"
   ]
  },
  {
   "cell_type": "code",
   "execution_count": 2,
   "metadata": {
    "collapsed": true
   },
   "outputs": [],
   "source": [
    "counter_EMR_manual = Counter()\n",
    "with open('temp_shakespeare_manual_counter.txt') as f:\n",
    "    for line in f:\n",
    "        word, count = line.strip().split('\\t')\n",
    "        counter_EMR_manual[word] += int(count)"
   ]
  },
  {
   "cell_type": "code",
   "execution_count": 3,
   "metadata": {
    "collapsed": true
   },
   "outputs": [],
   "source": [
    "import os\n",
    "\n",
    "output_dir = 'output_data/word_counter/'\n",
    "counter_EMR = Counter()\n",
    "\n",
    "for file_name in os.listdir(output_dir):\n",
    "    with open(output_dir + file_name) as f:\n",
    "        for line in f:\n",
    "            word, count = line.strip().split('\\t')\n",
    "            counter_EMR[word] += int(count)"
   ]
  },
  {
   "cell_type": "code",
   "execution_count": 4,
   "metadata": {
    "collapsed": false
   },
   "outputs": [
    {
     "data": {
      "text/plain": [
       "True"
      ]
     },
     "execution_count": 4,
     "metadata": {},
     "output_type": "execute_result"
    }
   ],
   "source": [
    "(counter_manual == counter_EMR_manual) and (counter_EMR_manual == counter_EMR) # all are identical"
   ]
  }
 ],
 "metadata": {
  "kernelspec": {
   "display_name": "Python 2",
   "language": "python",
   "name": "python2"
  },
  "language_info": {
   "codemirror_mode": {
    "name": "ipython",
    "version": 2
   },
   "file_extension": ".py",
   "mimetype": "text/x-python",
   "name": "python",
   "nbconvert_exporter": "python",
   "pygments_lexer": "ipython2",
   "version": "2.7.11"
  }
 },
 "nbformat": 4,
 "nbformat_minor": 0
}
